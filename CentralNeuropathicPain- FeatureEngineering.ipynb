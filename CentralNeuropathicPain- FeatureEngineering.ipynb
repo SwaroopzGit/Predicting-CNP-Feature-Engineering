{
 "cells": [
  {
   "cell_type": "markdown",
   "metadata": {},
   "source": [
    "# Case Study 1\n",
    "\n",
    "#### Predicting Central Neuropathic Pain (CNP) in people with Spinal Cord Injury (SCI) from Electroencephalogram (EEG) data.\n",
    "\n",
    "* CNP is pain in response to non-painful stimuli, episodic (electric shock), “pins and needles”, numbness\n",
    "* There is currently no treatment, only prevention\n",
    "* Preventative medications have strong side-effects\n",
    "* Predicting whether a patient is likely to develop pain is useful for selective treatment\n",
    "\n",
    "#### Task\n",
    "Your task is to devise a feature engineering strategy which, in combination with a classifier of your choice, optizimes prediction accuracy.\n",
    "\n",
    "#### Data\n",
    "The data is preprocessed brain EEG data from SCI patients recorded while resting with eyes closed (EC) and eyes opened (EO).\n",
    "* 48 electrodes recording electrical activity of the brain at 250 Hz \n",
    "* 2 classes: subject will / will not develop neuropathic pain within 6 months\n",
    "* 18 subjects: 10 developed pain and 8 didn’t develop pain\n",
    "* the data has already undergone some preprocessing\n",
    "  * Signal denoising and normalization\n",
    "  * Temporal segmentation\n",
    "  * Frequency band power estimation\n",
    "  * Normalization with respect to total band power\n",
    "  * Features include normalized alpha, beta, theta band power while eyes closed, eyes opened, and taking the ratio of eo/ec.\n",
    "* the data is provided in a single table ('data.csv') consisting of \n",
    "  * 180 rows (18 subjects x 10 repetitions), each containing\n",
    "  * 432 columns (9 features x 48 electrodes)\n",
    "  * rows are in subject major order, i.e. rows 0-9 are all samples from subject 0, rows 10-19 all samples from subject 1, etc.\n",
    "  * columns are in feature_type major order, i.e. columns 0-47 are alpha band power, eyes closed, electrodes 0-48\n",
    "  * feature identifiers for all columns are stored in 'feature_names.csv'\n",
    "  * 'labels.csv' defines the corresponding class (0 or 1) to each row in data.csv\n",
    "\n",
    "#### Objective Measure\n",
    "Leave one subject out cross-validation accuracy, sensitivity and specificity.\n",
    "\n",
    "#### Report\n",
    "Report on your feature engineering pipeline, the classifier used to evaluate performance, and the performance as mean and standard deviation of accuracy, sensitivity and specificity across folds. Give evidence for why your strategy is better than others.\n",
    "\n",
    "\n"
   ]
  },
  {
   "cell_type": "code",
   "execution_count": 1,
   "metadata": {},
   "outputs": [],
   "source": [
    "import csv\n",
    "import numpy as np\n",
    "import scipy.stats as stats\n",
    "from matplotlib import pyplot as plt\n",
    "from sklearn.model_selection import StratifiedKFold, LeaveOneOut, KFold\n",
    "from sklearn.decomposition import PCA\n",
    "import warnings\n",
    "warnings.filterwarnings('ignore')"
   ]
  },
  {
   "cell_type": "code",
   "execution_count": 36,
   "metadata": {},
   "outputs": [
    {
     "name": "stdout",
     "output_type": "stream",
     "text": [
      "(180,)\n"
     ]
    }
   ],
   "source": [
    "# load data\n",
    "# rows in X are subject major order, i.e. rows 0-9 are all samples from subject 0, rows 10-19 all samples from subject 1, etc.\n",
    "# columns in X are in feature_type major order, i.e. columns 0-47 are alpha band power, eyes closed, electrodes 0-48\n",
    "# feature identifiers for all columns in X are stored in feature_names.csv\n",
    "X = np.loadtxt('data.csv', delimiter=',') \n",
    "y = np.loadtxt('labels.csv', delimiter=',')\n",
    "with open('feature_names.csv') as f:\n",
    "    csvreader = csv.reader(f, delimiter=',')\n",
    "    feature_names = [row for row in csvreader][0]\n",
    "print(y.shape)"
   ]
  },
  {
   "cell_type": "code",
   "execution_count": 3,
   "metadata": {
    "scrolled": true
   },
   "outputs": [
    {
     "name": "stdout",
     "output_type": "stream",
     "text": [
      "[1. 0. 0. 0. 0. 0. 1. 1. 1. 1. 0. 0. 1. 1. 1. 1. 0. 1. 0. 0. 1. 0. 1. 0.\n",
      " 1. 0. 1. 0. 0. 1. 0. 1. 0. 1. 0. 0. 0. 1. 0. 0. 1. 1. 0. 0. 1. 1. 0. 1.\n",
      " 0. 0. 0. 1. 0. 0. 1. 1. 0. 0. 1. 0. 0. 0. 0. 1. 0. 1. 1. 1. 0. 0. 1. 1.\n",
      " 0. 0. 0. 0. 1. 1. 0. 1. 1. 1. 1. 0. 0. 1. 0. 1. 0. 0. 0. 0. 0. 0. 1. 0.\n",
      " 0. 1. 1. 0. 0. 0. 0. 1. 1. 0. 0. 1. 1. 1. 1. 0. 0. 1. 0. 1. 0. 0. 0. 0.\n",
      " 0. 1. 1. 0. 1. 1. 0. 0. 1. 1. 1. 1. 0. 1. 0. 0. 1. 1. 0. 0. 1. 0. 0. 1.] [0. 0. 1. 0. 1. 0. 0. 0. 1. 1. 0. 1. 0. 1. 0. 0. 0. 1. 0. 0. 0. 1. 1. 0.\n",
      " 0. 1. 0. 0. 1. 1. 1. 0. 1. 1. 0. 0.]\n"
     ]
    }
   ],
   "source": [
    "from sklearn.linear_model import LogisticRegression\n",
    "from sklearn.neighbors import KNeighborsClassifier\n",
    "from sklearn import metrics\n",
    "from sklearn.metrics import classification_report, confusion_matrix\n",
    "from sklearn.model_selection import train_test_split, cross_val_score\n",
    "\n",
    "xTrain, xTest, yTrain, yTest = train_test_split(X, y, test_size = 0.2, random_state=42)\n",
    "#xTrain, xVal, yTrain, yVal = train_test_split(xTrain, yTrain, test_size=0.25) # 0.3 x 0.7 = 0.2\n",
    "print(yTrain, yTest)\n",
    "\n",
    "\n",
    "#print(xVal, yVal)"
   ]
  },
  {
   "cell_type": "code",
   "execution_count": null,
   "metadata": {},
   "outputs": [],
   "source": []
  },
  {
   "cell_type": "code",
   "execution_count": 5,
   "metadata": {
    "scrolled": true
   },
   "outputs": [
    {
     "name": "stdout",
     "output_type": "stream",
     "text": [
      "[0, 1, 2, 3, 4, 5, 6, 7, 8, 9, 10, 11, 12, 13, 14, 15, 16, 17, 18, 19, 20, 21, 22, 23, 24, 25, 26, 27, 28, 29, 30, 31, 32, 33, 34, 35, 36, 37, 38, 39, 40, 41, 42, 43, 44, 45, 46, 47, 48, 49, 100, 101, 102, 103, 104, 105, 106, 107, 108, 109, 110, 111, 112, 113, 114, 115, 116, 117, 118, 119]\n",
      "[50, 51, 52, 53, 54, 55, 56, 57, 58, 59, 60, 61, 62, 63, 64, 65, 66, 67, 68, 69, 70, 71, 72, 73, 74, 75, 76, 77, 78, 79, 80, 81, 82, 83, 84, 85, 86, 87, 88, 89, 90, 91, 92, 93, 94, 95, 96, 97, 98, 99, 120, 121, 122, 123, 124, 125, 126, 127, 128, 129, 130, 131, 132, 133, 134, 135, 136, 137, 138, 139, 140, 141, 142, 143, 144, 145, 146, 147, 148, 149, 150, 151, 152, 153, 154, 155, 156, 157, 158, 159, 160, 161, 162, 163, 164, 165, 166, 167, 168, 169, 170, 171, 172, 173, 174, 175, 176, 177, 178, 179]\n"
     ]
    }
   ],
   "source": [
    "\n",
    "\n",
    "train_indices = list(np.arange(0,x*10)) + list(np.arange(100,100+y*10))\n",
    "print(train_indices)\n",
    "test_indices = list(set(list(np.arange(0,180))) - set(train_indices))\n",
    "print(test_indices)\n",
    "Xtrain = X[train_indices]\n",
    "Xtest = X[test_indices]"
   ]
  },
  {
   "cell_type": "code",
   "execution_count": 6,
   "metadata": {},
   "outputs": [
    {
     "data": {
      "text/plain": [
       "(70, 432)"
      ]
     },
     "execution_count": 6,
     "metadata": {},
     "output_type": "execute_result"
    }
   ],
   "source": [
    "Xtrain.shape"
   ]
  },
  {
   "cell_type": "code",
   "execution_count": 7,
   "metadata": {},
   "outputs": [
    {
     "name": "stdout",
     "output_type": "stream",
     "text": [
      "score 0.8055555555555556\n"
     ]
    },
    {
     "data": {
      "image/png": "[encoded data removed]",
      "text/plain": [
       "<Figure size 432x288 with 1 Axes>"
      ]
     },
     "metadata": {
      "needs_background": "light"
     },
     "output_type": "display_data"
    }
   ],
   "source": [
    "#Logistic Regression\n",
    "\n",
    "model = LogisticRegression(max_iter=1000)\n",
    "model.fit(xTrain,yTrain)\n",
    "y_pred1 = model.predict(xTest)\n",
    "y_pred_proba1 = model.predict_proba(xTest)[:,1]\n",
    "#y_pred1 = clf1.predict(Test)\n",
    "fpr1, tpr1, _ = metrics.roc_curve(yTest,  y_pred_proba1)\n",
    "auc1 = metrics.roc_auc_score(yTest, y_pred_proba1)\n",
    "print(\"score\", model.score(xTest,yTest))\n",
    "plt.plot(fpr1,tpr1,'ro-',label=\"auc=\"+str(auc1))\n",
    "plt.legend(loc=4)\n",
    "plt.show()"
   ]
  },
  {
   "cell_type": "code",
   "execution_count": 37,
   "metadata": {},
   "outputs": [
    {
     "name": "stdout",
     "output_type": "stream",
     "text": [
      "Baseline 0.8555555555555556\n"
     ]
    }
   ],
   "source": [
    "# Logistic Regression\n",
    "\n",
    "L = LogisticRegression(max_iter=5000)\n",
    "folds = KFold(n_splits=18)\n",
    "print(\"Baseline\",np.mean(cross_val_score(L, X, y, cv=folds)))"
   ]
  },
  {
   "cell_type": "markdown",
   "metadata": {},
   "source": [
    "# KNN "
   ]
  },
  {
   "cell_type": "code",
   "execution_count": 39,
   "metadata": {},
   "outputs": [
    {
     "data": {
      "text/plain": [
       "(100, 29)"
      ]
     },
     "execution_count": 39,
     "metadata": {},
     "output_type": "execute_result"
    }
   ],
   "source": [
    "cv_scores = []\n",
    "cv = KFold(n_splits=18)\n",
    "n_neighbor_list = []\n",
    "cv_extend_list = []\n",
    "\n",
    "for v in range(100):\n",
    "    cv_scores = []\n",
    "    for i in range(1,30,1):\n",
    "        knn_cv = KNeighborsClassifier(n_neighbors=i)\n",
    "        #cross_val_score(L, xTest, yTest, cv=5)\n",
    "        cv_scores.append(1-np.mean(cross_val_score(knn_cv, xTrain, yTrain, cv=cv)))\n",
    "    #print(cv_scores)\n",
    "    cv_extend_list.append(cv_scores)\n",
    "np.array(cv_extend_list).shape\n",
    "# n_neighbor = cv_extend_list.index([np.min(cv_extend_list)])+1\n",
    "# #     if (n_neighbor) == 1:\n",
    "# #         cv_scores.remove(np.min(cv_scores))\n",
    "# #         n_neighbor = cv_scores.index([np.min(cv_scores)])+1\n",
    "# #n_neighbor_list.append(n_neighbor)\n",
    "# #print(max(set(n_neighbor_list), key=n_neighbor_list.count))\n",
    "# plt.plot(np.arange(1,30,1),cv_extend_list)\n",
    "# plt.xticks(np.arange(1,30))\n",
    "# plt.xlabel('Number of neighbors')\n",
    "# plt.ylabel('Average CV error')"
   ]
  },
  {
   "cell_type": "code",
   "execution_count": 12,
   "metadata": {},
   "outputs": [],
   "source": [
    "# x = np.mean(np.array(cv_extend_list), axis=0)\n",
    "# plt.plot(np.arange(1,30,1),x)\n",
    "# plt.xticks(np.arange(1,30))\n",
    "# plt.xlabel('Number of neighbors')\n",
    "# plt.ylabel('Average CV error')"
   ]
  },
  {
   "cell_type": "code",
   "execution_count": 41,
   "metadata": {
    "scrolled": true
   },
   "outputs": [],
   "source": [
    "def Knn(xTrain, yTrain, xTest, yTest):\n",
    "    clf2 = KNeighborsClassifier(n_neighbor).fit(xTrain, yTrain)\n",
    "    y_pred2 = clf2.predict(xTest)\n",
    "    y_pred_proba2 = clf2.predict_proba(xTest)[:,1]\n",
    "    fpr2, tpr2, _ = metrics.roc_curve(yTest,  y_pred_proba2)\n",
    "    #print(yTest, y_pred_proba2)\n",
    "    auc2 = metrics.roc_auc_score(yTest, y_pred_proba2)\n",
    "    #print(clf2.score(xTest, yTest))\n",
    "    plt.plot(fpr2,tpr2,'bo-',label=\"auc=\"+str(auc2))\n",
    "    plt.legend(loc=4)\n",
    "    plt.show()\n",
    "    return auc2"
   ]
  },
  {
   "cell_type": "code",
   "execution_count": 42,
   "metadata": {},
   "outputs": [],
   "source": [
    "#Pearson Correlation coefficient\n",
    "newCols = []\n",
    "coeffs = []\n",
    "pairDict = {}\n",
    "coeffDict = {}\n",
    "aucdicts = {}\n",
    "for p in range(0,X.shape[1]):\n",
    "    for n in range(0,X.shape[1]):\n",
    "        if (p != n):\n",
    "            coeff = stats.pearsonr(X[:, p], X[:, n])[0]\n",
    "            if ( abs(coeff) > 0.5):\n",
    "                if (p not in pairDict.keys()):\n",
    "                    pairDict[p] = [n]\n",
    "                else:\n",
    "                    pairDict[p].append(n)"
   ]
  },
  {
   "cell_type": "code",
   "execution_count": 43,
   "metadata": {},
   "outputs": [],
   "source": [
    "finalCol = []\n",
    "dependencyListLen = [len(pairDict[x]) for x in pairDict.keys()]\n",
    "count = 0\n",
    "for n in range(0,1):\n",
    "    for x in pairDict.keys():\n",
    "        if (max(dependencyListLen) == len(pairDict[x])):\n",
    "            finalCol.extend(list(pairDict[x]))\n",
    "            dependencyListLen.remove(max(dependencyListLen))\n",
    "            break"
   ]
  },
  {
   "cell_type": "code",
   "execution_count": 44,
   "metadata": {},
   "outputs": [
    {
     "data": {
      "text/plain": [
       "106"
      ]
     },
     "execution_count": 44,
     "metadata": {},
     "output_type": "execute_result"
    }
   ],
   "source": [
    "len(finalCol)"
   ]
  },
  {
   "cell_type": "code",
   "execution_count": 45,
   "metadata": {},
   "outputs": [
    {
     "data": {
      "text/plain": [
       "326"
      ]
     },
     "execution_count": 45,
     "metadata": {},
     "output_type": "execute_result"
    }
   ],
   "source": [
    "finalCol = list(set(finalCol))\n",
    "newfeatureset = set(np.arange(0,432)) - set(np.array(finalCol))\n",
    "len(newfeatureset)"
   ]
  },
  {
   "cell_type": "code",
   "execution_count": null,
   "metadata": {
    "scrolled": true
   },
   "outputs": [],
   "source": []
  },
  {
   "cell_type": "code",
   "execution_count": null,
   "metadata": {},
   "outputs": [],
   "source": []
  },
  {
   "cell_type": "code",
   "execution_count": 46,
   "metadata": {
    "scrolled": true
   },
   "outputs": [
    {
     "name": "stdout",
     "output_type": "stream",
     "text": [
      "12\n"
     ]
    },
    {
     "data": {
      "text/plain": [
       "[<matplotlib.lines.Line2D at 0x7fb9431b53a0>]"
      ]
     },
     "execution_count": 46,
     "metadata": {},
     "output_type": "execute_result"
    },
    {
     "data": {
      "image/png": "[encoded data removed]",
      "text/plain": [
       "<Figure size 432x288 with 1 Axes>"
      ]
     },
     "metadata": {
      "needs_background": "light"
     },
     "output_type": "display_data"
    }
   ],
   "source": [
    "pca = PCA(0.95)\n",
    "#XPca = pca.fit_transform(X[:, list(newfeatureset)],y)\n",
    "XPca = pca.fit_transform(X[:, list(newfeatureset)],y)\n",
    "#X_test = pca.fit_transform(xTest[:, finalCol])\n",
    "#explained_variance = pca.explained_variance_ratio_\n",
    "# pcaFinal = []\n",
    "# [pcaFinal.append(i) for i,n in enumerate(list(explained_variance)) if abs(n)>0.00001]\n",
    "featset = len(pca.explained_variance_ratio_.cumsum()[pca.explained_variance_ratio_.cumsum()<0.999])\n",
    "print(featset)\n",
    "plt.plot(np.arange(len(pca.explained_variance_ratio_.cumsum())), pca.explained_variance_ratio_.cumsum())"
   ]
  },
  {
   "cell_type": "code",
   "execution_count": 47,
   "metadata": {},
   "outputs": [
    {
     "data": {
      "text/plain": [
       "(180, 12)"
      ]
     },
     "execution_count": 47,
     "metadata": {},
     "output_type": "execute_result"
    }
   ],
   "source": [
    "XPca.shape"
   ]
  },
  {
   "cell_type": "code",
   "execution_count": 48,
   "metadata": {},
   "outputs": [
    {
     "name": "stdout",
     "output_type": "stream",
     "text": [
      "0.6\n",
      "1.0\n",
      "0.9\n",
      "0.9\n",
      "0.9\n",
      "1.0\n",
      "0.8\n",
      "0.8\n",
      "1.0\n",
      "0.9\n",
      "1.0\n",
      "0.7\n",
      "0.9\n",
      "0.9\n",
      "0.9\n",
      "0.5\n",
      "0.9\n",
      "0.8\n",
      "0.8555555555555556\n"
     ]
    }
   ],
   "source": [
    "#new_train = X[:, list(newfeatureset)]\n",
    "new_train = X\n",
    "# new_train = XPca\n",
    "# new_train = XPca[:, np.arange(0,featset)]\n",
    "# print(new_train.shape)\n",
    "# new_test = x[:, finalCol]\n",
    "#cv = StratifiedKFold() # \n",
    "auc = []\n",
    "#cv = StratifiedKFold(n_splits=18, shuffle=True)\n",
    "#cv = LeaveOneOut()\n",
    "\n",
    "ytestLi = []\n",
    "ypredLi = []\n",
    "accuracy = []\n",
    "specout = []\n",
    "sensout  = []\n",
    "#xTrain, xTest, yTrain, yTest = train_test_split(new_train, y, test_size = 0.3, random_state = 0)\n",
    "for train_index, test_index in cv.split(new_train):\n",
    "    #print('TRAIN:', train_index, 'TEST:', test_index)\n",
    "    X_train_cv, X_test_cv = new_train[train_index], new_train[test_index] # select X for training and testing\n",
    "    y_train_cv, y_test_cv = y[train_index], y[test_index]\n",
    "    #print(train_index, test_index)\n",
    "    #print(Knn(X_train_cv, t_train_cv, X_test_cv, t_test_cv))\n",
    "    #clf2 = KNeighborsClassifier(3).fit(X_train_cv, y_train_cv)\n",
    "    clf2 = LogisticRegression().fit(X_train_cv, y_train_cv)\n",
    "    #y_pred_proba2 = clf2.predict_proba(X_test_cv)[:,1]\n",
    "    #fpr2, tpr2, _ = metrics.roc_curve(y_test_cv,  y_pred_proba2)\n",
    "#     print(yTest, y_pred_proba2)\n",
    "    y_pred_proba = clf2.predict(X_test_cv)\n",
    "#     print(y_pred_proba)\n",
    "#     print(y_test_cv)\n",
    "    #print(metrics.accuracy_score(y_test_cv, y_pred_proba))\n",
    "    if(metrics.confusion_matrix(y_test_cv, y_pred_proba).ravel().shape[0] == 1):\n",
    "        if y_pred_proba[0] == 1:\n",
    "            tp = metrics.confusion_matrix(y_test_cv, y_pred_proba).ravel()[0]\n",
    "            tn = 0\n",
    "        else:\n",
    "            tn = metrics.confusion_matrix(y_test_cv, y_pred_proba).ravel()[0]\n",
    "            tp = 0\n",
    "\n",
    "        fp = 0\n",
    "        fn = 0\n",
    "\n",
    "    else:\n",
    "        tn, fp, fn, tp = metrics.confusion_matrix(y_test_cv, y_pred_proba).ravel()\n",
    "    \n",
    "    #print(tn, fp, fn, tp)\n",
    "        \n",
    "    if tp+fn == 0:\n",
    "        sens = 0\n",
    "    else:\n",
    "        sens = tp/(tp+fn)\n",
    "\n",
    "    if fp+tn == 0:\n",
    "        spec = 0\n",
    "    else:\n",
    "        spec = tn/(fp+tn)\n",
    "    print((tp+tn)/(tp+tn+fp+fn))\n",
    "    \n",
    "    accuracy.append((tp+tn)/(tp+tn+fp+fn))\n",
    "    #aucout.append(metrics.roc_auc_score(y_test_cv, y_pred_proba))\n",
    "    #fpr, tpr, _ = metrics.roc_curve(y_test_cv, y_pred_proba)\n",
    "    #print(fpr)\n",
    "    \n",
    "    specout.append(spec)\n",
    "    sensout.append(sens)\n",
    "    #auc2 = metrics.roc_auc_score(y_test_cv, y_pred_proba2)\n",
    "    #print(auc2)\n",
    "    #auc.append(auc2)\n",
    "#auc.append(auc2)\n",
    "\n",
    "# for i in range(0, len(ytestLi)):\n",
    "#     auc.append(metrics.roc_auc_score(ytestLi[i],  ypredLi[i]))\n",
    "print(np.mean(accuracy))\n",
    "#print(yTest.shape)\n",
    "# ypred_proba = clf2.predict_proba(xTest[:, finalcol])[:, 1]\n",
    "# fpr2, tpr2, _ = metrics.roc_curve(yTest,  ypred_proba)\n",
    "# aucFinal = metrics.roc_auc_score(yTest, ypred_proba)\n",
    "# print(aucFinal)"
   ]
  },
  {
   "cell_type": "code",
   "execution_count": 49,
   "metadata": {},
   "outputs": [
    {
     "name": "stdout",
     "output_type": "stream",
     "text": [
      "0.8055555555555556\n"
     ]
    }
   ],
   "source": [
    "\n",
    "clf2 = KNeighborsClassifier(3).fit(xTrain, yTrain)\n",
    "y_pred_proba = clf2.predict(xTest)\n",
    "#     print(y_pred_proba)\n",
    "#     print(y_test_cv)\n",
    "    #print(metrics.accuracy_score(y_test_cv, y_pred_proba))\n",
    "if(metrics.confusion_matrix(yTest, y_pred_proba).ravel().shape[0] == 1):\n",
    "    if y_pred_proba[0] == 1:\n",
    "        tp = metrics.confusion_matrix(yTest, y_pred_proba).ravel()[0]\n",
    "        tn = 0\n",
    "    else:\n",
    "        tn = metrics.confusion_matrix(yTest, y_pred_proba).ravel()[0]\n",
    "        tp = 0\n",
    "\n",
    "    fp = 0\n",
    "    fn = 0\n",
    "\n",
    "else:\n",
    "    tn, fp, fn, tp = metrics.confusion_matrix(yTest, y_pred_proba).ravel()\n",
    "\n",
    "#print(tn, fp, fn, tp)\n",
    "\n",
    "if tp+fn == 0:\n",
    "    sens = 0\n",
    "else:\n",
    "    sens = tp/(tp+fn)\n",
    "\n",
    "if fp+tn == 0:\n",
    "    spec = 0\n",
    "else:\n",
    "    spec = tn/(fp+tn)\n",
    "#print((tp+tn)/(tp+tn+fp+fn))\n",
    "print((tp+tn)/(tp+tn+fp+fn))\n",
    "#aucout.append(metrics.roc_auc_score(y_test_cv, y_pred_proba))\n",
    "#fpr, tpr, _ = metrics.roc_curve(y_test_cv, y_pred_proba)\n",
    "#print(fpr)\n",
    "\n",
    "specout.append(spec)\n",
    "sensout.append(sens)\n",
    "    #auc2 = metrics.roc_auc_score(y_test_cv, y_pred_proba2)\n",
    "    #print(auc2)\n",
    "    #auc.append(auc2)\n",
    "#auc.append(auc2)\n",
    "\n",
    "# for i in range(0, len(ytestLi)):\n",
    "#     auc.append(metrics.roc_auc_score(ytestLi[i],  ypredLi[i]))\n",
    "#print(accuracy)"
   ]
  },
  {
   "cell_type": "code",
   "execution_count": 50,
   "metadata": {},
   "outputs": [
    {
     "name": "stdout",
     "output_type": "stream",
     "text": [
      "(36,)\n"
     ]
    },
    {
     "data": {
      "text/plain": [
       "(144, 432)"
      ]
     },
     "execution_count": 50,
     "metadata": {},
     "output_type": "execute_result"
    }
   ],
   "source": [
    "print(yTest.shape)\n",
    "xTrain.shape "
   ]
  },
  {
   "cell_type": "code",
   "execution_count": 51,
   "metadata": {
    "scrolled": true
   },
   "outputs": [
    {
     "name": "stdout",
     "output_type": "stream",
     "text": [
      "76 29\n",
      "beta_ec_28 alpha_ec_29\n"
     ]
    },
    {
     "data": {
      "text/plain": [
       "<matplotlib.legend.Legend at 0x7fb943cb7ca0>"
      ]
     },
     "execution_count": 51,
     "metadata": {},
     "output_type": "execute_result"
    },
    {
     "data": {
      "image/png": "[encoded data removed]",
      "text/plain": [
       "<Figure size 1728x432 with 3 Axes>"
      ]
     },
     "metadata": {
      "needs_background": "light"
     },
     "output_type": "display_data"
    }
   ],
   "source": [
    "# plotting data in 2D with axes sampled \n",
    "# a) at random \n",
    "# b) from same electrode\n",
    "# c) from same feature type\n",
    "num_features = 9\n",
    "num_electrodes = 48\n",
    "\n",
    "# a) indices drawn at random\n",
    "i0, i1 = np.random.randint(0, X.shape[1], size=2)\n",
    "print(i0, i1)\n",
    "print(feature_names[i0], feature_names[i1])\n",
    "# b) same electrode, different feature (uncomment lines below)\n",
    "#f0, f1 = np.random.randint(0, num_features, size=2aaA)\n",
    "#e = np.random.randint(0, num_electrodes)\n",
    "#i0, i1 = f0*num_electrodes + e, f1*num_electrodes + e\n",
    "\n",
    "# b) same feature, different electrode (uncomment lines below)\n",
    "#f = np.random.randint(0, num_features)\n",
    "#e0, e1 = np.random.randint(0, num_electrodes, size=2)\n",
    "#i0, i1 = f*num_electrodes + e0, f*num_electrodes + e1\n",
    "\n",
    "fig, axes = plt.subplots(1, 3, figsize=(24, 6))\n",
    "colors = ['blue', 'red']\n",
    "\n",
    "# select features i0, i1 and separate by class\n",
    "X00, X01 = X[y==0][:,i0], X[y==1][:,i0]\n",
    "X10, X11 = X[y==0][:,i1], X[y==1][:,i1]\n",
    "# plot cumulative distribution of feature i0 separate for each class\n",
    "axes[0].hist(X00, bins=20, label='y=0, '+ feature_names[i0], density=True, alpha=0.5)\n",
    "axes[0].hist(X01, bins=20, label='y=1, '+ feature_names[i0], density=True, alpha=0.5)\n",
    "axes[0].hist(X10, bins=20, label='y=0, '+ feature_names[i1], density=True, alpha=0.5)\n",
    "axes[0].hist(X11, bins=20, label='y=1, '+ feature_names[i1], density=True, alpha=0.5)\n",
    "axes[0].set_title('histograms')\n",
    "axes[0].legend()\n",
    "axes[1].plot(np.sort(X00), np.linspace(0,1,X00.shape[0]), label='y=0, '+ feature_names[i0], alpha=0.5)\n",
    "axes[1].plot(np.sort(X01), np.linspace(0,1,X01.shape[0]), label='y=1, '+ feature_names[i0], alpha=0.5)\n",
    "axes[1].plot(np.sort(X10), np.linspace(0,1,X10.shape[0]), label='y=0, '+ feature_names[i1], alpha=0.5)\n",
    "axes[1].plot(np.sort(X11), np.linspace(0,1,X11.shape[0]), label='y=1, '+ feature_names[i1], alpha=0.5)\n",
    "axes[1].set_title('empirical cumulative distribution functions')\n",
    "axes[1].legend()\n",
    "axes[2].scatter(X00, X10, label='y=0')\n",
    "axes[2].scatter(X01, X11, label='y=1')\n",
    "axes[2].set_xlabel(feature_names[i0])\n",
    "axes[2].set_ylabel(feature_names[i1])\n",
    "axes[2].set_title('scatter plot')\n",
    "axes[2].legend()"
   ]
  },
  {
   "cell_type": "code",
   "execution_count": null,
   "metadata": {},
   "outputs": [],
   "source": []
  },
  {
   "cell_type": "code",
   "execution_count": null,
   "metadata": {},
   "outputs": [],
   "source": []
  },
  {
   "cell_type": "code",
   "execution_count": null,
   "metadata": {},
   "outputs": [],
   "source": []
  },
  {
   "cell_type": "code",
   "execution_count": null,
   "metadata": {},
   "outputs": [],
   "source": []
  }
 ],
 "metadata": {
  "kernelspec": {
   "display_name": "Python 3 (ipykernel)",
   "language": "python",
   "name": "python3"
  },
  "language_info": {
   "codemirror_mode": {
    "name": "ipython",
    "version": 3
   },
   "file_extension": ".py",
   "mimetype": "text/x-python",
   "name": "python",
   "nbconvert_exporter": "python",
   "pygments_lexer": "ipython3",
   "version": "3.8.3"
  }
 },
 "nbformat": 4,
 "nbformat_minor": 2
}
